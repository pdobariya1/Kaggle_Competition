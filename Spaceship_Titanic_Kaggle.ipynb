{
  "cells": [
    {
      "cell_type": "markdown",
      "metadata": {
        "id": "_RulIPHyqj3T"
      },
      "source": [
        "# Notes\n",
        "- Each Id takes the form gggg_pp where gggg indicates a group the passenger is travelling with and pp is their number within the group. >=_02 in the passenger ID it means that is a group travelling\n",
        "- Cabin is split up to deck/num/side\n",
        "- RoomService, FoodCourt, ShoppingMall, Spa, VRDeck - Monetory values in terms of amount spent\n",
        "\n",
        "\n",
        "Machine Learning Task\n",
        "- Predict Transported(True/False) (Binary Classification)"
      ]
    },
    {
      "cell_type": "markdown",
      "metadata": {
        "id": "rVzxJD9_iSV3"
      },
      "source": [
        "# Setup the Dependencies"
      ]
    },
    {
      "cell_type": "code",
      "execution_count": null,
      "metadata": {
        "id": "uiHlQYLPiZq9"
      },
      "outputs": [],
      "source": [
        "!pip install kaggle"
      ]
    },
    {
      "cell_type": "code",
      "execution_count": null,
      "metadata": {
        "id": "2OdfSjK0ih-T"
      },
      "outputs": [],
      "source": [
        "!mkdir  ~/.kaggle"
      ]
    },
    {
      "cell_type": "code",
      "execution_count": null,
      "metadata": {
        "id": "ElcoH6Esiv0H"
      },
      "outputs": [],
      "source": [
        "!cp kaggle.json ~/.kaggle/kaggle.json"
      ]
    },
    {
      "cell_type": "code",
      "execution_count": null,
      "metadata": {
        "id": "wf9t2ivni_85"
      },
      "outputs": [],
      "source": [
        "!chmod 600 ~/.kaggle/kaggle.json"
      ]
    },
    {
      "cell_type": "code",
      "execution_count": null,
      "metadata": {
        "colab": {
          "base_uri": "https://localhost:8080/"
        },
        "id": "W9NuXVVqjHst",
        "outputId": "916fc7a4-6d3f-4bc1-d02d-9ccb540fa2f7"
      },
      "outputs": [],
      "source": [
        "!kaggle competitions download -c spaceship-titanic"
      ]
    },
    {
      "cell_type": "code",
      "execution_count": null,
      "metadata": {
        "colab": {
          "base_uri": "https://localhost:8080/"
        },
        "id": "QWSHVz6ljp7P",
        "outputId": "83cd2350-149f-42db-99a0-217e0da33bdf"
      },
      "outputs": [],
      "source": [
        "!unzip spaceship-titanic.zip"
      ]
    },
    {
      "cell_type": "markdown",
      "metadata": {
        "id": "910Tz5iEkbbo"
      },
      "source": [
        "# Load Data and EDA"
      ]
    },
    {
      "cell_type": "code",
      "execution_count": null,
      "metadata": {
        "id": "SIKvy_UPn2lj"
      },
      "outputs": [],
      "source": [
        "!pip install ydata-profiling"
      ]
    },
    {
      "cell_type": "code",
      "execution_count": null,
      "metadata": {
        "id": "UdUVzc3AlOgQ"
      },
      "outputs": [],
      "source": [
        "import pandas as pd\n",
        "from ydata_profiling import ProfileReport"
      ]
    },
    {
      "cell_type": "code",
      "execution_count": null,
      "metadata": {
        "colab": {
          "base_uri": "https://localhost:8080/",
          "height": 293
        },
        "id": "dTPDKBPYllde",
        "outputId": "56de9c8b-8564-4fc8-eba0-771280d9b8cf"
      },
      "outputs": [],
      "source": [
        "df = pd.read_csv('train.csv')\n",
        "df.head()"
      ]
    },
    {
      "cell_type": "code",
      "execution_count": null,
      "metadata": {
        "colab": {
          "base_uri": "https://localhost:8080/"
        },
        "id": "sNVJKMDro75P",
        "outputId": "9583f5a5-c322-455e-cd57-637d9db32923"
      },
      "outputs": [],
      "source": [
        "df.info()"
      ]
    },
    {
      "cell_type": "code",
      "execution_count": null,
      "metadata": {
        "id": "eBWg6yf0suqy"
      },
      "outputs": [],
      "source": [
        "profile = ProfileReport(df=df, title='Spaceship Titanic Report')"
      ]
    },
    {
      "cell_type": "code",
      "execution_count": null,
      "metadata": {
        "id": "4WmOKa3Xt1Me"
      },
      "outputs": [],
      "source": [
        "profile.to_notebook_iframe()"
      ]
    },
    {
      "cell_type": "code",
      "execution_count": null,
      "metadata": {
        "colab": {
          "base_uri": "https://localhost:8080/",
          "height": 104,
          "referenced_widgets": [
            "594895027bfd4ff9882b92d8e91b72b2",
            "d1218cc281ba459ea2292b6687ad6c08",
            "634675af27c9457886dfe019e7b91064",
            "091d4440c568407bb50a54e5a10d05e3",
            "084411902f664aefa11c3cb757e2b679",
            "d36f0a3edf874e7aa9131dc77b043aa1",
            "f635d497daf543cf99fd8814a7fd5d81",
            "a7984ac912894eafa98d0f43a256e942",
            "dc1f47f6ada54ee4b8e560782ffa1569",
            "ef70eb5698a34c35a330e3d1091702a3",
            "601b965cbffd4ec89e54cde512b7c475"
          ]
        },
        "id": "b3j4HsVEwi2j",
        "outputId": "767ac202-c375-4cc5-a565-01e6a2f9533e"
      },
      "outputs": [],
      "source": [
        "profile.to_file('Spaceship_Titanic_Report.html')"
      ]
    },
    {
      "cell_type": "code",
      "execution_count": null,
      "metadata": {
        "id": "NLfGQJjnvwLL"
      },
      "outputs": [],
      "source": [
        "def split_cabin(x):\n",
        "  if len(str(x).split('/')) < 3:\n",
        "    return ['Missing', 'Missing', 'Missing']\n",
        "  else:\n",
        "    return str(x).split('/')"
      ]
    },
    {
      "cell_type": "code",
      "execution_count": null,
      "metadata": {
        "colab": {
          "base_uri": "https://localhost:8080/"
        },
        "id": "0ZW-k6ebwKPV",
        "outputId": "5bd1bdc2-47fd-4f15-d957-c022d697e94b"
      },
      "outputs": [],
      "source": [
        "df.columns"
      ]
    },
    {
      "cell_type": "code",
      "execution_count": null,
      "metadata": {
        "id": "_rNA4qu0wVZN"
      },
      "outputs": [],
      "source": [
        "# Create a preprocessing function to transform our dataset\n",
        "def preprocessing(df):\n",
        "  # Fill missing value in homeplanet with missing\n",
        "  df['HomePlanet'].fillna('Missing', inplace=True)\n",
        "\n",
        "  # Cryosleep - highly correlated - drop na rows\n",
        "  df['CryoSleep'].fillna('Missing', inplace=True)\n",
        "\n",
        "  # Cabin preprocessing - extract Deck and Side\n",
        "  df['TempCabin'] = df['Cabin'].apply(lambda x: split_cabin(x))\n",
        "  df['Deck'] = df['TempCabin'].apply(lambda x: x[0])\n",
        "  df['Side'] = df['TempCabin'].apply(lambda x: x[2])\n",
        "  df.drop(columns=['TempCabin', 'Cabin'], axis=1, inplace=True)\n",
        "\n",
        "  # Destination\n",
        "  df['Destination'].fillna('Missing', inplace=True)\n",
        "\n",
        "  # Age\n",
        "  df['Age'].fillna(df['Age'].mean(), inplace=True)\n",
        "\n",
        "  # VIP - drop na rows\n",
        "  df['VIP'].fillna('Missing', inplace=True)\n",
        "\n",
        "  # Monetory spending columns\n",
        "  df['RoomService'].fillna(0, inplace=True)\n",
        "  df['FoodCourt'].fillna(0, inplace=True)\n",
        "  df['ShoppingMall'].fillna(0, inplace=True)\n",
        "  df['Spa'].fillna(0, inplace=True)\n",
        "  df['VRDeck'].fillna(0, inplace=True)\n",
        "\n",
        "  # Drop name due to high cardinality\n",
        "  df.drop(columns=['Name'], axis=1, inplace=True)\n",
        "\n",
        "  # Drop remaining row\n",
        "  # df.dropna(inplace=True)"
      ]
    },
    {
      "cell_type": "code",
      "execution_count": null,
      "metadata": {
        "id": "YonIS0070N0S"
      },
      "outputs": [],
      "source": [
        "analytical_base_table = df.copy()"
      ]
    },
    {
      "cell_type": "code",
      "execution_count": null,
      "metadata": {
        "colab": {
          "base_uri": "https://localhost:8080/"
        },
        "id": "bz7Y2XHkweOB",
        "outputId": "74557bb3-5240-4042-8a10-c904a5c87e03"
      },
      "outputs": [],
      "source": [
        "df.shape"
      ]
    },
    {
      "cell_type": "code",
      "execution_count": null,
      "metadata": {
        "id": "UyaXi13M02jx"
      },
      "outputs": [],
      "source": [
        "preprocessing(analytical_base_table)"
      ]
    },
    {
      "cell_type": "code",
      "execution_count": null,
      "metadata": {
        "colab": {
          "base_uri": "https://localhost:8080/"
        },
        "id": "GBKwNhiPw336",
        "outputId": "dc47df7c-6607-454e-9857-f172c11d2be7"
      },
      "outputs": [],
      "source": [
        "analytical_base_table.shape"
      ]
    },
    {
      "cell_type": "code",
      "execution_count": null,
      "metadata": {
        "colab": {
          "base_uri": "https://localhost:8080/",
          "height": 206
        },
        "id": "PrV6TzaP42wL",
        "outputId": "6a8923a9-762b-4a65-8944-e07a82030c77"
      },
      "outputs": [],
      "source": [
        "analytical_base_table.head()"
      ]
    },
    {
      "cell_type": "code",
      "execution_count": null,
      "metadata": {
        "colab": {
          "base_uri": "https://localhost:8080/"
        },
        "id": "zUgEnX5f09MO",
        "outputId": "56e1ea95-f695-4c9e-f49b-f02850219e3d"
      },
      "outputs": [],
      "source": [
        "analytical_base_table.info()"
      ]
    },
    {
      "cell_type": "code",
      "execution_count": null,
      "metadata": {
        "colab": {
          "base_uri": "https://localhost:8080/"
        },
        "id": "15RD0KHH5ARd",
        "outputId": "8193fe4c-0e97-40ee-ba7a-5ec8295c0ba5"
      },
      "outputs": [],
      "source": [
        "# Unique Value\n",
        "abt = analytical_base_table.drop(columns=['PassengerId', 'Age', 'RoomService', 'FoodCourt', 'ShoppingMall', 'Spa', 'VRDeck'], axis=1)\n",
        "for i in abt:\n",
        "  print(f\"Unique value of {i} : {abt[i].unique()}\")"
      ]
    },
    {
      "cell_type": "code",
      "execution_count": null,
      "metadata": {
        "colab": {
          "base_uri": "https://localhost:8080/",
          "height": 449
        },
        "id": "eHIvUOowKj2s",
        "outputId": "e16b00a8-7100-4352-c25c-023fe608adcd"
      },
      "outputs": [],
      "source": [
        "import seaborn as sns\n",
        "import matplotlib.pyplot as plt\n",
        "\n",
        "# Check whether dataset balanced or not\n",
        "sns.countplot(x='Transported', data=df)\n",
        "plt.show()"
      ]
    },
    {
      "cell_type": "markdown",
      "metadata": {
        "id": "OQ94m0oL1q0-"
      },
      "source": [
        "# Modelling\n",
        "- Feature and Target values - X, y\n",
        "- One hot encoded any categorical columns\n",
        "- Train, holdout split\n",
        "- Train on bunch of algorithms"
      ]
    },
    {
      "cell_type": "code",
      "execution_count": null,
      "metadata": {
        "id": "3oLqJVGv2KW7"
      },
      "outputs": [],
      "source": [
        "from sklearn.pipeline import make_pipeline\n",
        "from sklearn.model_selection import train_test_split\n",
        "from sklearn.preprocessing import StandardScaler, OneHotEncoder"
      ]
    },
    {
      "cell_type": "code",
      "execution_count": null,
      "metadata": {
        "id": "NoiAJkOr2yAi"
      },
      "outputs": [],
      "source": [
        "# Feature columns\n",
        "X = analytical_base_table.drop(columns=['Transported', 'PassengerId'], axis=1)\n",
        "\n",
        "# Target column\n",
        "y = analytical_base_table['Transported']"
      ]
    },
    {
      "cell_type": "code",
      "execution_count": null,
      "metadata": {
        "id": "v-EroyvU3Tgy"
      },
      "outputs": [],
      "source": [
        "# One hot encoding\n",
        "X = pd.get_dummies(X)"
      ]
    },
    {
      "cell_type": "code",
      "execution_count": null,
      "metadata": {
        "colab": {
          "base_uri": "https://localhost:8080/"
        },
        "id": "GIbr4_AF7HnD",
        "outputId": "dde08455-d979-4cfd-9125-791482b242b5"
      },
      "outputs": [],
      "source": [
        "X.columns"
      ]
    },
    {
      "cell_type": "code",
      "execution_count": null,
      "metadata": {
        "colab": {
          "base_uri": "https://localhost:8080/",
          "height": 255
        },
        "id": "OgZiDzKW7ND-",
        "outputId": "2b708f5c-e972-4aa3-ce42-0646a89ca5b3"
      },
      "outputs": [],
      "source": [
        "# Train & Test split\n",
        "X_train, X_test, y_train, y_test = train_test_split(X, y, test_size=0.3, random_state=42)\n",
        "X_train.head()"
      ]
    },
    {
      "cell_type": "markdown",
      "metadata": {
        "id": "wf3_acBh8BG8"
      },
      "source": [
        "# Setup ML Pipeline"
      ]
    },
    {
      "cell_type": "code",
      "execution_count": null,
      "metadata": {
        "id": "4oRC1KYc8AvC"
      },
      "outputs": [],
      "source": [
        "import numpy as np\n",
        "from sklearn.model_selection import GridSearchCV\n",
        "from sklearn.svm import SVC\n",
        "from sklearn.linear_model import LogisticRegression\n",
        "from sklearn.neighbors import KNeighborsClassifier\n",
        "from sklearn.ensemble import RandomForestClassifier, GradientBoostingClassifier"
      ]
    },
    {
      "cell_type": "code",
      "execution_count": null,
      "metadata": {
        "id": "PZE636RL80_R"
      },
      "outputs": [],
      "source": [
        "pipelines = {\n",
        "    'rf': make_pipeline(StandardScaler(), RandomForestClassifier(random_state=1234)),\n",
        "    'gb': make_pipeline(StandardScaler(), GradientBoostingClassifier(random_state=1234)),\n",
        "    'svm': make_pipeline(StandardScaler(), SVC()),\n",
        "    'logistic': make_pipeline(StandardScaler(), LogisticRegression())\n",
        "}"
      ]
    },
    {
      "cell_type": "code",
      "execution_count": null,
      "metadata": {
        "id": "tvLkJSjbGsw7"
      },
      "outputs": [],
      "source": [
        "LogisticRegression().get_params()"
      ]
    },
    {
      "cell_type": "code",
      "execution_count": null,
      "metadata": {
        "colab": {
          "base_uri": "https://localhost:8080/"
        },
        "id": "Elry92uYntsy",
        "outputId": "547e5f7e-37a3-4a36-ab38-b40bab57945d"
      },
      "outputs": [],
      "source": [
        "for algo, pipeline in pipelines.items():\n",
        "  print(f\"Algorithm : {algo} and Pipeline : {pipeline}\")"
      ]
    },
    {
      "cell_type": "code",
      "execution_count": null,
      "metadata": {
        "id": "Pduy0Ld69gQJ"
      },
      "outputs": [],
      "source": [
        "grid = {\n",
        "    'rf': {\n",
        "        'randomforestclassifier__n_estimators': [100, 200, 300, 400],\n",
        "        'randomforestclassifier__max_features': [\"sqrt\", \"log2\"]\n",
        "    },\n",
        "    'gb': {\n",
        "        'gradientboostingclassifier__n_estimators': [100, 200, 300],\n",
        "        'gradientboostingclassifier__criterion': [\"friedman_mse\", \"squared_error\"],\n",
        "        'gradientboostingclassifier__learning_rate': [0.1, 0.01, 0.001]\n",
        "    },\n",
        "    'svm': {\n",
        "        'svc__kernel': ['linear', 'poly', 'rbf', 'sigmoid'],\n",
        "        'svc__gamma': ['scale', 'auto']\n",
        "    },\n",
        "    'logistic': {\n",
        "        'logisticregression__C' : np.logspace(-4, 4, 20),\n",
        "        'logisticregression__max_iter': [100, 1000, 2500, 5000]\n",
        "    }\n",
        "}"
      ]
    },
    {
      "cell_type": "code",
      "execution_count": null,
      "metadata": {
        "colab": {
          "base_uri": "https://localhost:8080/",
          "height": 125
        },
        "id": "65zPWyYe9Vl2",
        "outputId": "ff6f80b2-29a2-4b60-892b-c317a52b0468"
      },
      "outputs": [],
      "source": [
        "pipelines['rf']"
      ]
    },
    {
      "cell_type": "code",
      "execution_count": null,
      "metadata": {
        "colab": {
          "base_uri": "https://localhost:8080/"
        },
        "id": "MqzBi-29I23U",
        "outputId": "164a96dd-d42a-439c-c5bb-a00153f5e945"
      },
      "outputs": [],
      "source": [
        "for algo, pipeline in pipelines.items():\n",
        "  print(f\"Algorithm : {algo} and Pipeline : {pipeline}\")"
      ]
    },
    {
      "cell_type": "code",
      "execution_count": null,
      "metadata": {
        "colab": {
          "base_uri": "https://localhost:8080/"
        },
        "id": "l24XRH1iMYyu",
        "outputId": "da2d2c56-9480-4898-f2e4-a7ccc45a5792"
      },
      "outputs": [],
      "source": [
        "# Create a blank dictionary to hold the models\n",
        "fit_models = {}\n",
        "\n",
        "# Loop through all the algorithms\n",
        "for algo, pipeline in pipelines.items():\n",
        "  print(f\"Training the {algo} model.\")\n",
        "\n",
        "  # Create a Grid Search CV\n",
        "  model = GridSearchCV(pipeline, grid[algo], n_jobs=-1, cv=10)\n",
        "\n",
        "  # Train the model\n",
        "  model.fit(X_train, y_train)\n",
        "\n",
        "  # Store the results inside the dictionary\n",
        "  fit_models[algo] = model"
      ]
    },
    {
      "cell_type": "markdown",
      "metadata": {
        "id": "vsbDogy8RjUk"
      },
      "source": [
        "# Evaluate Performance on Test Partition\n",
        "- Grab the testing data from test.csv and evaluate on that"
      ]
    },
    {
      "cell_type": "code",
      "execution_count": null,
      "metadata": {
        "colab": {
          "base_uri": "https://localhost:8080/"
        },
        "id": "dukrMwt5S8M_",
        "outputId": "6fa269a1-9b92-4b35-c685-ddff875db7ee"
      },
      "outputs": [],
      "source": [
        "for algo, model in fit_models.items():\n",
        "  print(algo,'\\n',model)"
      ]
    },
    {
      "cell_type": "code",
      "execution_count": null,
      "metadata": {
        "id": "q-ZkF445TXY0"
      },
      "outputs": [],
      "source": [
        "from sklearn.metrics import accuracy_score, precision_score, recall_score"
      ]
    },
    {
      "cell_type": "code",
      "execution_count": null,
      "metadata": {
        "colab": {
          "base_uri": "https://localhost:8080/"
        },
        "id": "1zbQIkCvTgcK",
        "outputId": "6e05733c-d70f-4b7b-d550-99ea83ade328"
      },
      "outputs": [],
      "source": [
        "# Evaluate the performance of the model\n",
        "for algo, model in fit_models.items():\n",
        "  yhat = model.predict(X_test)\n",
        "  accuracy = accuracy_score(y_test, yhat)\n",
        "  precision = precision_score(y_test, yhat)\n",
        "  recall = recall_score(y_test, yhat)\n",
        "  print(f\"Metrics for {algo}: Accuracy={accuracy}, Precision={precision}, Recall={recall}\")"
      ]
    },
    {
      "cell_type": "markdown",
      "metadata": {
        "id": "e3QscYUKVLof"
      },
      "source": [
        "# Save Best Model"
      ]
    },
    {
      "cell_type": "code",
      "execution_count": null,
      "metadata": {
        "id": "A_SMSTu3VOoQ"
      },
      "outputs": [],
      "source": [
        "import pickle"
      ]
    },
    {
      "cell_type": "code",
      "execution_count": null,
      "metadata": {
        "id": "DWftrFXIVQHk"
      },
      "outputs": [],
      "source": [
        "with open('gradientBoosted.pkl', 'wb') as f:\n",
        "  pickle.dump(fit_models['gb'], f)"
      ]
    },
    {
      "cell_type": "code",
      "execution_count": null,
      "metadata": {
        "id": "zI9KrZJuViAB"
      },
      "outputs": [],
      "source": [
        "with open('gradientBoosted.pkl', 'rb') as f:\n",
        "  reloaded_model = pickle.load(f)"
      ]
    },
    {
      "cell_type": "code",
      "execution_count": null,
      "metadata": {
        "colab": {
          "base_uri": "https://localhost:8080/",
          "height": 151
        },
        "id": "QQm7WlykVynH",
        "outputId": "c171e279-5d46-44d9-9819-1935e72f37ce"
      },
      "outputs": [],
      "source": [
        "reloaded_model"
      ]
    },
    {
      "cell_type": "markdown",
      "metadata": {
        "id": "97Qg8JEaWYLK"
      },
      "source": [
        "# Predict on Test Data"
      ]
    },
    {
      "cell_type": "code",
      "execution_count": null,
      "metadata": {
        "id": "CMNCg1VgWbS-"
      },
      "outputs": [],
      "source": [
        "# Read test.csv\n",
        "test_df = pd.read_csv('test.csv')"
      ]
    },
    {
      "cell_type": "code",
      "execution_count": null,
      "metadata": {
        "id": "oLGWK8rf1-wD"
      },
      "outputs": [],
      "source": [
        "# Deep Copy\n",
        "abt_test = test_df.copy()"
      ]
    },
    {
      "cell_type": "code",
      "execution_count": null,
      "metadata": {
        "id": "kY9jbTsB2L2w"
      },
      "outputs": [],
      "source": [
        "# Preprocessing\n",
        "preprocessing(abt_test)"
      ]
    },
    {
      "cell_type": "code",
      "execution_count": null,
      "metadata": {
        "colab": {
          "base_uri": "https://localhost:8080/"
        },
        "id": "W0Avos792Twm",
        "outputId": "d37b4b6d-9199-44b1-be31-59e36f1cb422"
      },
      "outputs": [],
      "source": [
        "print(test_df.shape, abt_test.shape)"
      ]
    },
    {
      "cell_type": "code",
      "execution_count": null,
      "metadata": {
        "id": "E6hbZIsC2aZF"
      },
      "outputs": [],
      "source": [
        "# One hot encoding for categorical variables\n",
        "abt_test = pd.get_dummies(abt_test.drop('PassengerId', axis=1))"
      ]
    },
    {
      "cell_type": "code",
      "execution_count": null,
      "metadata": {
        "colab": {
          "base_uri": "https://localhost:8080/"
        },
        "id": "ZIjn-XAL2vTA",
        "outputId": "807b110a-db50-4d8a-c9d8-5ba4049057e8"
      },
      "outputs": [],
      "source": [
        "len(test_df.columns), len(abt_test.columns)"
      ]
    },
    {
      "cell_type": "code",
      "execution_count": null,
      "metadata": {
        "id": "UvFB8Ls424Lk"
      },
      "outputs": [],
      "source": [
        "yhat_test = fit_models['gb'].predict(abt_test)"
      ]
    },
    {
      "cell_type": "code",
      "execution_count": null,
      "metadata": {
        "colab": {
          "base_uri": "https://localhost:8080/",
          "height": 423
        },
        "id": "Dq8Z2Jad3ChK",
        "outputId": "452f8e58-d548-4bb9-a6a7-8bfd1a0250bc"
      },
      "outputs": [],
      "source": [
        "submission = pd.DataFrame([test_df['PassengerId'], yhat_test]).T\n",
        "submission.columns = ['PassengerId', 'Transported']\n",
        "submission"
      ]
    },
    {
      "cell_type": "markdown",
      "metadata": {
        "id": "TlCM9TK35tZL"
      },
      "source": [
        "# Submit to Kaggle"
      ]
    },
    {
      "cell_type": "code",
      "execution_count": null,
      "metadata": {
        "id": "I_VlM1Mh5wPa"
      },
      "outputs": [],
      "source": [
        "submission.to_csv(\"kaggle_submission.csv\", index=False)"
      ]
    },
    {
      "cell_type": "code",
      "execution_count": null,
      "metadata": {
        "colab": {
          "base_uri": "https://localhost:8080/"
        },
        "id": "eKEpz2ak536O",
        "outputId": "1a7bec3e-f910-4f4c-ca69-06b00672329f"
      },
      "outputs": [],
      "source": [
        "!kaggle competitions submit -c spaceship-titanic -m \"initial gb model\" -f \"kaggle_submission.csv\""
      ]
    }
  ],
  "metadata": {
    "colab": {
      "provenance": []
    },
    "kernelspec": {
      "display_name": "Python 3",
      "name": "python3"
    },
    "language_info": {
      "name": "python"
    },
    "widgets": {
      "application/vnd.jupyter.widget-state+json": {
        "084411902f664aefa11c3cb757e2b679": {
          "model_module": "@jupyter-widgets/base",
          "model_module_version": "1.2.0",
          "model_name": "LayoutModel",
          "state": {
            "_model_module": "@jupyter-widgets/base",
            "_model_module_version": "1.2.0",
            "_model_name": "LayoutModel",
            "_view_count": null,
            "_view_module": "@jupyter-widgets/base",
            "_view_module_version": "1.2.0",
            "_view_name": "LayoutView",
            "align_content": null,
            "align_items": null,
            "align_self": null,
            "border": null,
            "bottom": null,
            "display": null,
            "flex": null,
            "flex_flow": null,
            "grid_area": null,
            "grid_auto_columns": null,
            "grid_auto_flow": null,
            "grid_auto_rows": null,
            "grid_column": null,
            "grid_gap": null,
            "grid_row": null,
            "grid_template_areas": null,
            "grid_template_columns": null,
            "grid_template_rows": null,
            "height": null,
            "justify_content": null,
            "justify_items": null,
            "left": null,
            "margin": null,
            "max_height": null,
            "max_width": null,
            "min_height": null,
            "min_width": null,
            "object_fit": null,
            "object_position": null,
            "order": null,
            "overflow": null,
            "overflow_x": null,
            "overflow_y": null,
            "padding": null,
            "right": null,
            "top": null,
            "visibility": null,
            "width": null
          }
        },
        "091d4440c568407bb50a54e5a10d05e3": {
          "model_module": "@jupyter-widgets/controls",
          "model_module_version": "1.5.0",
          "model_name": "HTMLModel",
          "state": {
            "_dom_classes": [],
            "_model_module": "@jupyter-widgets/controls",
            "_model_module_version": "1.5.0",
            "_model_name": "HTMLModel",
            "_view_count": null,
            "_view_module": "@jupyter-widgets/controls",
            "_view_module_version": "1.5.0",
            "_view_name": "HTMLView",
            "description": "",
            "description_tooltip": null,
            "layout": "IPY_MODEL_ef70eb5698a34c35a330e3d1091702a3",
            "placeholder": "​",
            "style": "IPY_MODEL_601b965cbffd4ec89e54cde512b7c475",
            "value": " 1/1 [00:00&lt;00:00, 33.40it/s]"
          }
        },
        "594895027bfd4ff9882b92d8e91b72b2": {
          "model_module": "@jupyter-widgets/controls",
          "model_module_version": "1.5.0",
          "model_name": "HBoxModel",
          "state": {
            "_dom_classes": [],
            "_model_module": "@jupyter-widgets/controls",
            "_model_module_version": "1.5.0",
            "_model_name": "HBoxModel",
            "_view_count": null,
            "_view_module": "@jupyter-widgets/controls",
            "_view_module_version": "1.5.0",
            "_view_name": "HBoxView",
            "box_style": "",
            "children": [
              "IPY_MODEL_d1218cc281ba459ea2292b6687ad6c08",
              "IPY_MODEL_634675af27c9457886dfe019e7b91064",
              "IPY_MODEL_091d4440c568407bb50a54e5a10d05e3"
            ],
            "layout": "IPY_MODEL_084411902f664aefa11c3cb757e2b679"
          }
        },
        "601b965cbffd4ec89e54cde512b7c475": {
          "model_module": "@jupyter-widgets/controls",
          "model_module_version": "1.5.0",
          "model_name": "DescriptionStyleModel",
          "state": {
            "_model_module": "@jupyter-widgets/controls",
            "_model_module_version": "1.5.0",
            "_model_name": "DescriptionStyleModel",
            "_view_count": null,
            "_view_module": "@jupyter-widgets/base",
            "_view_module_version": "1.2.0",
            "_view_name": "StyleView",
            "description_width": ""
          }
        },
        "634675af27c9457886dfe019e7b91064": {
          "model_module": "@jupyter-widgets/controls",
          "model_module_version": "1.5.0",
          "model_name": "FloatProgressModel",
          "state": {
            "_dom_classes": [],
            "_model_module": "@jupyter-widgets/controls",
            "_model_module_version": "1.5.0",
            "_model_name": "FloatProgressModel",
            "_view_count": null,
            "_view_module": "@jupyter-widgets/controls",
            "_view_module_version": "1.5.0",
            "_view_name": "ProgressView",
            "bar_style": "success",
            "description": "",
            "description_tooltip": null,
            "layout": "IPY_MODEL_a7984ac912894eafa98d0f43a256e942",
            "max": 1,
            "min": 0,
            "orientation": "horizontal",
            "style": "IPY_MODEL_dc1f47f6ada54ee4b8e560782ffa1569",
            "value": 1
          }
        },
        "a7984ac912894eafa98d0f43a256e942": {
          "model_module": "@jupyter-widgets/base",
          "model_module_version": "1.2.0",
          "model_name": "LayoutModel",
          "state": {
            "_model_module": "@jupyter-widgets/base",
            "_model_module_version": "1.2.0",
            "_model_name": "LayoutModel",
            "_view_count": null,
            "_view_module": "@jupyter-widgets/base",
            "_view_module_version": "1.2.0",
            "_view_name": "LayoutView",
            "align_content": null,
            "align_items": null,
            "align_self": null,
            "border": null,
            "bottom": null,
            "display": null,
            "flex": null,
            "flex_flow": null,
            "grid_area": null,
            "grid_auto_columns": null,
            "grid_auto_flow": null,
            "grid_auto_rows": null,
            "grid_column": null,
            "grid_gap": null,
            "grid_row": null,
            "grid_template_areas": null,
            "grid_template_columns": null,
            "grid_template_rows": null,
            "height": null,
            "justify_content": null,
            "justify_items": null,
            "left": null,
            "margin": null,
            "max_height": null,
            "max_width": null,
            "min_height": null,
            "min_width": null,
            "object_fit": null,
            "object_position": null,
            "order": null,
            "overflow": null,
            "overflow_x": null,
            "overflow_y": null,
            "padding": null,
            "right": null,
            "top": null,
            "visibility": null,
            "width": null
          }
        },
        "d1218cc281ba459ea2292b6687ad6c08": {
          "model_module": "@jupyter-widgets/controls",
          "model_module_version": "1.5.0",
          "model_name": "HTMLModel",
          "state": {
            "_dom_classes": [],
            "_model_module": "@jupyter-widgets/controls",
            "_model_module_version": "1.5.0",
            "_model_name": "HTMLModel",
            "_view_count": null,
            "_view_module": "@jupyter-widgets/controls",
            "_view_module_version": "1.5.0",
            "_view_name": "HTMLView",
            "description": "",
            "description_tooltip": null,
            "layout": "IPY_MODEL_d36f0a3edf874e7aa9131dc77b043aa1",
            "placeholder": "​",
            "style": "IPY_MODEL_f635d497daf543cf99fd8814a7fd5d81",
            "value": "Export report to file: 100%"
          }
        },
        "d36f0a3edf874e7aa9131dc77b043aa1": {
          "model_module": "@jupyter-widgets/base",
          "model_module_version": "1.2.0",
          "model_name": "LayoutModel",
          "state": {
            "_model_module": "@jupyter-widgets/base",
            "_model_module_version": "1.2.0",
            "_model_name": "LayoutModel",
            "_view_count": null,
            "_view_module": "@jupyter-widgets/base",
            "_view_module_version": "1.2.0",
            "_view_name": "LayoutView",
            "align_content": null,
            "align_items": null,
            "align_self": null,
            "border": null,
            "bottom": null,
            "display": null,
            "flex": null,
            "flex_flow": null,
            "grid_area": null,
            "grid_auto_columns": null,
            "grid_auto_flow": null,
            "grid_auto_rows": null,
            "grid_column": null,
            "grid_gap": null,
            "grid_row": null,
            "grid_template_areas": null,
            "grid_template_columns": null,
            "grid_template_rows": null,
            "height": null,
            "justify_content": null,
            "justify_items": null,
            "left": null,
            "margin": null,
            "max_height": null,
            "max_width": null,
            "min_height": null,
            "min_width": null,
            "object_fit": null,
            "object_position": null,
            "order": null,
            "overflow": null,
            "overflow_x": null,
            "overflow_y": null,
            "padding": null,
            "right": null,
            "top": null,
            "visibility": null,
            "width": null
          }
        },
        "dc1f47f6ada54ee4b8e560782ffa1569": {
          "model_module": "@jupyter-widgets/controls",
          "model_module_version": "1.5.0",
          "model_name": "ProgressStyleModel",
          "state": {
            "_model_module": "@jupyter-widgets/controls",
            "_model_module_version": "1.5.0",
            "_model_name": "ProgressStyleModel",
            "_view_count": null,
            "_view_module": "@jupyter-widgets/base",
            "_view_module_version": "1.2.0",
            "_view_name": "StyleView",
            "bar_color": null,
            "description_width": ""
          }
        },
        "ef70eb5698a34c35a330e3d1091702a3": {
          "model_module": "@jupyter-widgets/base",
          "model_module_version": "1.2.0",
          "model_name": "LayoutModel",
          "state": {
            "_model_module": "@jupyter-widgets/base",
            "_model_module_version": "1.2.0",
            "_model_name": "LayoutModel",
            "_view_count": null,
            "_view_module": "@jupyter-widgets/base",
            "_view_module_version": "1.2.0",
            "_view_name": "LayoutView",
            "align_content": null,
            "align_items": null,
            "align_self": null,
            "border": null,
            "bottom": null,
            "display": null,
            "flex": null,
            "flex_flow": null,
            "grid_area": null,
            "grid_auto_columns": null,
            "grid_auto_flow": null,
            "grid_auto_rows": null,
            "grid_column": null,
            "grid_gap": null,
            "grid_row": null,
            "grid_template_areas": null,
            "grid_template_columns": null,
            "grid_template_rows": null,
            "height": null,
            "justify_content": null,
            "justify_items": null,
            "left": null,
            "margin": null,
            "max_height": null,
            "max_width": null,
            "min_height": null,
            "min_width": null,
            "object_fit": null,
            "object_position": null,
            "order": null,
            "overflow": null,
            "overflow_x": null,
            "overflow_y": null,
            "padding": null,
            "right": null,
            "top": null,
            "visibility": null,
            "width": null
          }
        },
        "f635d497daf543cf99fd8814a7fd5d81": {
          "model_module": "@jupyter-widgets/controls",
          "model_module_version": "1.5.0",
          "model_name": "DescriptionStyleModel",
          "state": {
            "_model_module": "@jupyter-widgets/controls",
            "_model_module_version": "1.5.0",
            "_model_name": "DescriptionStyleModel",
            "_view_count": null,
            "_view_module": "@jupyter-widgets/base",
            "_view_module_version": "1.2.0",
            "_view_name": "StyleView",
            "description_width": ""
          }
        }
      }
    }
  },
  "nbformat": 4,
  "nbformat_minor": 0
}
